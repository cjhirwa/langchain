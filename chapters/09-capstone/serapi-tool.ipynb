{
 "cells": [
  {
   "cell_type": "markdown",
   "metadata": {},
   "source": [
    "# SerpAPI Tool Helper"
   ]
  },
  {
   "cell_type": "markdown",
   "metadata": {},
   "source": [
    "This notebook provides a quick rundown of how we construct an async SerpAPI tool. Let's start by query SerpAPI synchronously via their Python SDK:"
   ]
  },
  {
   "cell_type": "code",
   "execution_count": 3,
   "metadata": {},
   "outputs": [
    {
     "name": "stdout",
     "output_type": "stream",
     "text": [
      "{'search_metadata': {'id': '683439458da5ea4a83599e15', 'status': 'Success', 'json_endpoint': 'https://serpapi.com/searches/d44066da4ed52755/683439458da5ea4a83599e15.json', 'created_at': '2025-05-26 09:49:57 UTC', 'processed_at': '2025-05-26 09:49:57 UTC', 'google_url': 'https://www.google.com/search?q=latest+news+in+the+world&oq=latest+news+in+the+world&sourceid=chrome&ie=UTF-8', 'raw_html_file': 'https://serpapi.com/searches/d44066da4ed52755/683439458da5ea4a83599e15.html', 'total_time_taken': 0.96}, 'search_parameters': {'engine': 'google', 'q': 'latest news in the world', 'google_domain': 'google.com', 'device': 'desktop'}, 'search_information': {'query_displayed': 'latest news in the world', 'total_results': 6160000000, 'time_taken_displayed': 0.21, 'organic_results_state': 'Results for exact spelling'}, 'related_questions': [{'question': 'What is the trending news in the world now?', 'snippet': None, 'title': 'World', 'link': 'https://www.cnn.com/world', 'list': ['Head of controversial US-backed Gaza aid group resigns, citing concerns over independence and impartiality.', 'North Korea arrests four over failed warship launch as images show vessel shielded from prying eyes.', \"US 'silence' encouraging Putin, says Zelensky, after Russia launches record air assault.\"], 'displayed_link': 'https://www.cnn.com › world', 'source_logo': 'https://serpapi.com/searches/683439458da5ea4a83599e15/images/005abd773d04d1ae77e5386f55bdc4c7f0251d42b0ee598b3e24973730f35da0.png', 'next_page_token': 'eyJvbnMiOiIxMDA0MSIsImZjIjoiRXFFQkNtSkJUR3QwWDNaSGVsOW1ielJpWkZaU2FYaGtWRmhtUkV4TlZrSklUWEZmYjNGS1QwSnhiRWRLV0d4dmIwcEdVbUo1TUZGaVpGRTFSQzFzT0dkaGVuYzBSR3RrTmpaMVJ6RlJlV0ZOY1RsTFpsODBZamgyV1ROVFUzZHNhVEZrYVRBeVp4SVhVbFJyTUdGUWJVOUxUakoyY0hSUlVITmtYMHRuUVRRYUlrRkdUVUZIUjI5cWJrWk1NemRDZW0wNFltNXRSMWh4Ykd0NGNuVm1kMU0zUmxFIiwiZmN2IjoiMyIsImVpIjoiUlRrMGFQbU9LTjJ2cHRRUHNkX0tnQTQiLCJxYyI6IkNoaHNZWFJsYzNRZ2JtVjNjeUJwYmlCMGFHVWdkMjl5YkdRUUFERUFBQURBTU5QS1AzM2F5elFfIiwicXVlc3Rpb24iOiJXaGF0IGlzIHRoZSB0cmVuZGluZyBuZXdzIGluIHRoZSB3b3JsZCBub3c/IiwibGsiOiJjNVBTS3M5SUxGSElMRllveVVoVktDbEt6VXZKekV0WHlFc3RMMWJJekFNTGx1Y1g1YVFvNU9XWEF3QSIsImJzIjoiYy1PSzQ5SU96MGdzVWNnc1ZpakpTRlVvS1VyTlM4bk1TMWZJU3kwdlZzak1Bd3VXNXhmbHBDams1WmZiUzh5ck05S1IwaW9uV2dkWEFKY0syUHpFb2xTSTh2d0NCVU1EaFl6VXhKU2N6THhVb0JuNUtZbVY5aExYVEl4VXBaVExDU3ZsQ3VKU1JYWnhUbUpKYW5HSlFucE9mbEppRHNRUlVDTTdJNDNVcEZUS2lWREw1Y0lsaDJ3bTJQbnF4UXBKSU5VZ1pmWVNtM09ONUtWa3lfRXBFbUFFQUEiLCJpZCI6ImZjX1JUazBhUG1PS04ydnB0UVBzZF9LZ0E0XzEifQ==', 'serpapi_link': 'https://serpapi.com/search.json?device=desktop&engine=google_related_questions&google_domain=google.com&next_page_token=eyJvbnMiOiIxMDA0MSIsImZjIjoiRXFFQkNtSkJUR3QwWDNaSGVsOW1ielJpWkZaU2FYaGtWRmhtUkV4TlZrSklUWEZmYjNGS1QwSnhiRWRLV0d4dmIwcEdVbUo1TUZGaVpGRTFSQzFzT0dkaGVuYzBSR3RrTmpaMVJ6RlJlV0ZOY1RsTFpsODBZamgyV1ROVFUzZHNhVEZrYVRBeVp4SVhVbFJyTUdGUWJVOUxUakoyY0hSUlVITmtYMHRuUVRRYUlrRkdUVUZIUjI5cWJrWk1NemRDZW0wNFltNXRSMWh4Ykd0NGNuVm1kMU0zUmxFIiwiZmN2IjoiMyIsImVpIjoiUlRrMGFQbU9LTjJ2cHRRUHNkX0tnQTQiLCJxYyI6IkNoaHNZWFJsYzNRZ2JtVjNjeUJwYmlCMGFHVWdkMjl5YkdRUUFERUFBQURBTU5QS1AzM2F5elFfIiwicXVlc3Rpb24iOiJXaGF0IGlzIHRoZSB0cmVuZGluZyBuZXdzIGluIHRoZSB3b3JsZCBub3c%2FIiwibGsiOiJjNVBTS3M5SUxGSElMRllveVVoVktDbEt6VXZKekV0WHlFc3RMMWJJekFNTGx1Y1g1YVFvNU9XWEF3QSIsImJzIjoiYy1PSzQ5SU96MGdzVWNnc1ZpakpTRlVvS1VyTlM4bk1TMWZJU3kwdlZzak1Bd3VXNXhmbHBDams1WmZiUzh5ck05S1IwaW9uV2dkWEFKY0syUHpFb2xTSTh2d0NCVU1EaFl6VXhKU2N6THhVb0JuNUtZbVY5aExYVEl4VXBaVExDU3ZsQ3VKU1JYWnhUbUpKYW5HSlFucE9mbEppRHNRUlVDTTdJNDNVcEZUS2lWREw1Y0lsaDJ3bTJQbnF4UXBKSU5VZ1pmWVNtM09ONUtWa3lfRXBFbUFFQUEiLCJpZCI6ImZjX1JUazBhUG1PS04ydnB0UVBzZF9LZ0E0XzEifQ%3D%3D'}, {'question': 'What are the top 10 headlines today?', 'snippet': None, 'title': 'Latest News Today: Breaking News and Top Headlines from India ...', 'link': 'https://indianexpress.com/', 'list': ['India Slams Pakistan Over Indus Waters Treaty At UN, \\'20,000 Indians Killed...\"', 'Russia Bombards Kyiv in Massive Overnight Assault | Putin | Ukraine | Putin | Zelenskyy...', 'Trump Vs Harvard: Will Trump Bar Other US Prestigious Universities...', \"China Worried About Trump's Harvard Ban, Here Is Why.\"], 'displayed_link': None, 'source_logo': 'https://serpapi.com/searches/683439458da5ea4a83599e15/images/005abd773d04d1ae77e5386f55bdc4c77fd7c887db5857cfe02c9c2bbe592f4e.png', 'next_page_token': 'eyJvbnMiOiIxMDA0MSIsImZjIjoiRXFFQkNtSkJUR3QwWDNaSGVsOW1ielJpWkZaU2FYaGtWRmhtUkV4TlZrSklUWEZmYjNGS1QwSnhiRWRLV0d4dmIwcEdVbUo1TUZGaVpGRTFSQzFzT0dkaGVuYzBSR3RrTmpaMVJ6RlJlV0ZOY1RsTFpsODBZamgyV1ROVFUzZHNhVEZrYVRBeVp4SVhVbFJyTUdGUWJVOUxUakoyY0hSUlVITmtYMHRuUVRRYUlrRkdUVUZIUjI5cWJrWk1NemRDZW0wNFltNXRSMWh4Ykd0NGNuVm1kMU0zUmxFIiwiZmN2IjoiMyIsImVpIjoiUlRrMGFQbU9LTjJ2cHRRUHNkX0tnQTQiLCJxYyI6IkNoaHNZWFJsYzNRZ2JtVjNjeUJwYmlCMGFHVWdkMjl5YkdRUUFERUFBQURBTU5QS1AzM2F5elFfIiwicXVlc3Rpb24iOiJXaGF0IGFyZSB0aGUgdG9wIDEwIGhlYWRsaW5lcyB0b2RheT8iLCJsayI6ImM1TlNMczlJTEZGSUxFcFZLTWtBNHZ3Q0JVTURoWXpVeEpTY3pMelVZcUJBU21JbEFBIiwiYnMiOiJjLU9LNDlJT3owZ3NVY2dzVmlqSlNGVW9LVXJOUzhuTVMxZklTeTB2VnNqTUF3dVc1eGZscENqazVaZmJTOHlyTTlLUjBpb25XZ2RYQUpjSzJQekVvbFNJOHZ3Q0JVTURoWXpVeEpTY3pMeFVvQm41S1ltVjloTFhUSXhVcFpUTENTdmxDdUpTUlhaeFRtSkphbkdKUW5wT2ZsSmlEc1FSVUNNN0k0M1VwRlRLaVZETDVjSWxoMndtMlBucXhRcEpJTlVnWmZZU20zT041S1ZreV9FcEVtQUVBQSIsImlkIjoiZmNfUlRrMGFQbU9LTjJ2cHRRUHNkX0tnQTRfMSJ9', 'serpapi_link': 'https://serpapi.com/search.json?device=desktop&engine=google_related_questions&google_domain=google.com&next_page_token=eyJvbnMiOiIxMDA0MSIsImZjIjoiRXFFQkNtSkJUR3QwWDNaSGVsOW1ielJpWkZaU2FYaGtWRmhtUkV4TlZrSklUWEZmYjNGS1QwSnhiRWRLV0d4dmIwcEdVbUo1TUZGaVpGRTFSQzFzT0dkaGVuYzBSR3RrTmpaMVJ6RlJlV0ZOY1RsTFpsODBZamgyV1ROVFUzZHNhVEZrYVRBeVp4SVhVbFJyTUdGUWJVOUxUakoyY0hSUlVITmtYMHRuUVRRYUlrRkdUVUZIUjI5cWJrWk1NemRDZW0wNFltNXRSMWh4Ykd0NGNuVm1kMU0zUmxFIiwiZmN2IjoiMyIsImVpIjoiUlRrMGFQbU9LTjJ2cHRRUHNkX0tnQTQiLCJxYyI6IkNoaHNZWFJsYzNRZ2JtVjNjeUJwYmlCMGFHVWdkMjl5YkdRUUFERUFBQURBTU5QS1AzM2F5elFfIiwicXVlc3Rpb24iOiJXaGF0IGFyZSB0aGUgdG9wIDEwIGhlYWRsaW5lcyB0b2RheT8iLCJsayI6ImM1TlNMczlJTEZGSUxFcFZLTWtBNHZ3Q0JVTURoWXpVeEpTY3pMelVZcUJBU21JbEFBIiwiYnMiOiJjLU9LNDlJT3owZ3NVY2dzVmlqSlNGVW9LVXJOUzhuTVMxZklTeTB2VnNqTUF3dVc1eGZscENqazVaZmJTOHlyTTlLUjBpb25XZ2RYQUpjSzJQekVvbFNJOHZ3Q0JVTURoWXpVeEpTY3pMeFVvQm41S1ltVjloTFhUSXhVcFpUTENTdmxDdUpTUlhaeFRtSkphbkdKUW5wT2ZsSmlEc1FSVUNNN0k0M1VwRlRLaVZETDVjSWxoMndtMlBucXhRcEpJTlVnWmZZU20zT041S1ZreV9FcEVtQUVBQSIsImlkIjoiZmNfUlRrMGFQbU9LTjJ2cHRRUHNkX0tnQTRfMSJ9'}, {'question': 'What is the latest global news today?', 'snippet': None, 'title': 'World News', 'link': 'https://www.business-standard.com/world-news', 'list': [\"China's Fujian carrier on sea trials, J-35 stealth fighters begin testing. ... \", 'Putin targeted? ... ', \"Pope Leo XIV declares 'I am Roman!' ... \", \"Trump hints at announcement in 'next two days' on Iran nuclear talks. ... \", 'Israel eying to take over 75% of Gaza in two months as war intensifies.'], 'displayed_link': 'https://www.business-standard.com › world-news', 'source_logo': 'https://serpapi.com/searches/683439458da5ea4a83599e15/images/005abd773d04d1ae77e5386f55bdc4c77440d558622152088c47ad2f18f26f08.png', 'next_page_token': 'eyJvbnMiOiIxMDA0MSIsImZjIjoiRXFFQkNtSkJUR3QwWDNaSGVsOW1ielJpWkZaU2FYaGtWRmhtUkV4TlZrSklUWEZmYjNGS1QwSnhiRWRLV0d4dmIwcEdVbUo1TUZGaVpGRTFSQzFzT0dkaGVuYzBSR3RrTmpaMVJ6RlJlV0ZOY1RsTFpsODBZamgyV1ROVFUzZHNhVEZrYVRBeVp4SVhVbFJyTUdGUWJVOUxUakoyY0hSUlVITmtYMHRuUVRRYUlrRkdUVUZIUjI5cWJrWk1NemRDZW0wNFltNXRSMWh4Ykd0NGNuVm1kMU0zUmxFIiwiZmN2IjoiMyIsImVpIjoiUlRrMGFQbU9LTjJ2cHRRUHNkX0tnQTQiLCJxYyI6IkNoaHNZWFJsYzNRZ2JtVjNjeUJwYmlCMGFHVWdkMjl5YkdRUUFERUFBQURBTU5QS1AzM2F5elFfIiwicXVlc3Rpb24iOiJXaGF0IGlzIHRoZSBsYXRlc3QgZ2xvYmFsIG5ld3MgdG9kYXk/IiwibGsiOiJHaVIzYUdGMElHbHpJSFJvWlNCc1lYUmxjM1FnWjJ4dlltRnNJRzVsZDNNZ2RHOWtZWGsiLCJicyI6ImMtT0s0OUlPejBnc1VjZ3NWaWpKU0ZVb0tVck5TOG5NUzFmSVN5MHZWc2pNQXd1VzV4ZmxwQ2prNVpmYlM4eXJNOUtSMGlvbldnZFhBSmNLMlB6RW9sU0k4dndDQlVNRGhZelV4SlNjekx4VW9CbjVLWW1WOWhMWFRJeFVwWlRMQ1N2bEN1SlNSWFp4VG1KSmFuR0pRbnBPZmxKaURzUVJVQ003STQzVXBGVEtpVkRMNWNJbGgyd20yUG5xeFFwSklOVWdaZllTbTNPTjVLVmt5X0VwRW1BRUFBIiwiaWQiOiJmY19SVGswYVBtT0tOMnZwdFFQc2RfS2dBNF8xIn0=', 'serpapi_link': 'https://serpapi.com/search.json?device=desktop&engine=google_related_questions&google_domain=google.com&next_page_token=eyJvbnMiOiIxMDA0MSIsImZjIjoiRXFFQkNtSkJUR3QwWDNaSGVsOW1ielJpWkZaU2FYaGtWRmhtUkV4TlZrSklUWEZmYjNGS1QwSnhiRWRLV0d4dmIwcEdVbUo1TUZGaVpGRTFSQzFzT0dkaGVuYzBSR3RrTmpaMVJ6RlJlV0ZOY1RsTFpsODBZamgyV1ROVFUzZHNhVEZrYVRBeVp4SVhVbFJyTUdGUWJVOUxUakoyY0hSUlVITmtYMHRuUVRRYUlrRkdUVUZIUjI5cWJrWk1NemRDZW0wNFltNXRSMWh4Ykd0NGNuVm1kMU0zUmxFIiwiZmN2IjoiMyIsImVpIjoiUlRrMGFQbU9LTjJ2cHRRUHNkX0tnQTQiLCJxYyI6IkNoaHNZWFJsYzNRZ2JtVjNjeUJwYmlCMGFHVWdkMjl5YkdRUUFERUFBQURBTU5QS1AzM2F5elFfIiwicXVlc3Rpb24iOiJXaGF0IGlzIHRoZSBsYXRlc3QgZ2xvYmFsIG5ld3MgdG9kYXk%2FIiwibGsiOiJHaVIzYUdGMElHbHpJSFJvWlNCc1lYUmxjM1FnWjJ4dlltRnNJRzVsZDNNZ2RHOWtZWGsiLCJicyI6ImMtT0s0OUlPejBnc1VjZ3NWaWpKU0ZVb0tVck5TOG5NUzFmSVN5MHZWc2pNQXd1VzV4ZmxwQ2prNVpmYlM4eXJNOUtSMGlvbldnZFhBSmNLMlB6RW9sU0k4dndDQlVNRGhZelV4SlNjekx4VW9CbjVLWW1WOWhMWFRJeFVwWlRMQ1N2bEN1SlNSWFp4VG1KSmFuR0pRbnBPZmxKaURzUVJVQ003STQzVXBGVEtpVkRMNWNJbGgyd20yUG5xeFFwSklOVWdaZllTbTNPTjVLVmt5X0VwRW1BRUFBIiwiaWQiOiJmY19SVGswYVBtT0tOMnZwdFFQc2RfS2dBNF8xIn0%3D'}, {'question': \"What is the world's best news?\", 'snippet': None, 'title': 'AI Overview', 'link': 'https://events.reutersevents.com/momentum/become-sponsor', 'displayed_link': None, 'next_page_token': 'eyJvbnMiOiIxMDA0MSIsImZjIjoiRXFFQkNtSkJUR3QwWDNaSGVsOW1ielJpWkZaU2FYaGtWRmhtUkV4TlZrSklUWEZmYjNGS1QwSnhiRWRLV0d4dmIwcEdVbUo1TUZGaVpGRTFSQzFzT0dkaGVuYzBSR3RrTmpaMVJ6RlJlV0ZOY1RsTFpsODBZamgyV1ROVFUzZHNhVEZrYVRBeVp4SVhVbFJyTUdGUWJVOUxUakoyY0hSUlVITmtYMHRuUVRRYUlrRkdUVUZIUjI5cWJrWk1NemRDZW0wNFltNXRSMWh4Ykd0NGNuVm1kMU0zUmxFIiwiZmN2IjoiMyIsImVpIjoiUlRrMGFQbU9LTjJ2cHRRUHNkX0tnQTQiLCJxYyI6IkNoaHNZWFJsYzNRZ2JtVjNjeUJwYmlCMGFHVWdkMjl5YkdRUUFERUFBQURBTU5QS1AzM2F5elFfIiwicXVlc3Rpb24iOiJXaGF0IGlzIHRoZSB3b3JsZCdzIGJlc3QgbmV3cz8iLCJsayI6IkdoMTNhR0YwSUdseklIUm9aU0IzYjNKc1pDZHpJR0psYzNRZ2JtVjNjdyIsImJzIjoiYy1PSzQ5SU96MGdzVWNnc1ZpakpTRlVvS1VyTlM4bk1TMWZJU3kwdlZzak1Bd3VXNXhmbHBDams1WmZiUzh5ck05S1IwaW9uV2dkWEFKY0syUHpFb2xTSTh2d0NCVU1EaFl6VXhKU2N6THhVb0JuNUtZbVY5aExYVEl4VXBaVExDU3ZsQ3VKU1JYWnhUbUpKYW5HSlFucE9mbEppRHNRUlVDTTdJNDNVcEZUS2lWREw1Y0lsaDJ3bTJQbnF4UXBKSU5VZ1pmWVNtM09ONUtWa3lfRXBFbUFFQUEiLCJpZCI6ImZjX1JUazBhUG1PS04ydnB0UVBzZF9LZ0E0XzEifQ==', 'serpapi_link': 'https://serpapi.com/search.json?device=desktop&engine=google_related_questions&google_domain=google.com&next_page_token=eyJvbnMiOiIxMDA0MSIsImZjIjoiRXFFQkNtSkJUR3QwWDNaSGVsOW1ielJpWkZaU2FYaGtWRmhtUkV4TlZrSklUWEZmYjNGS1QwSnhiRWRLV0d4dmIwcEdVbUo1TUZGaVpGRTFSQzFzT0dkaGVuYzBSR3RrTmpaMVJ6RlJlV0ZOY1RsTFpsODBZamgyV1ROVFUzZHNhVEZrYVRBeVp4SVhVbFJyTUdGUWJVOUxUakoyY0hSUlVITmtYMHRuUVRRYUlrRkdUVUZIUjI5cWJrWk1NemRDZW0wNFltNXRSMWh4Ykd0NGNuVm1kMU0zUmxFIiwiZmN2IjoiMyIsImVpIjoiUlRrMGFQbU9LTjJ2cHRRUHNkX0tnQTQiLCJxYyI6IkNoaHNZWFJsYzNRZ2JtVjNjeUJwYmlCMGFHVWdkMjl5YkdRUUFERUFBQURBTU5QS1AzM2F5elFfIiwicXVlc3Rpb24iOiJXaGF0IGlzIHRoZSB3b3JsZCdzIGJlc3QgbmV3cz8iLCJsayI6IkdoMTNhR0YwSUdseklIUm9aU0IzYjNKc1pDZHpJR0psYzNRZ2JtVjNjdyIsImJzIjoiYy1PSzQ5SU96MGdzVWNnc1ZpakpTRlVvS1VyTlM4bk1TMWZJU3kwdlZzak1Bd3VXNXhmbHBDams1WmZiUzh5ck05S1IwaW9uV2dkWEFKY0syUHpFb2xTSTh2d0NCVU1EaFl6VXhKU2N6THhVb0JuNUtZbVY5aExYVEl4VXBaVExDU3ZsQ3VKU1JYWnhUbUpKYW5HSlFucE9mbEppRHNRUlVDTTdJNDNVcEZUS2lWREw1Y0lsaDJ3bTJQbnF4UXBKSU5VZ1pmWVNtM09ONUtWa3lfRXBFbUFFQUEiLCJpZCI6ImZjX1JUazBhUG1PS04ydnB0UVBzZF9LZ0E0XzEifQ%3D%3D'}], 'organic_results': [{'position': 1, 'title': 'World | Latest News & Updates', 'link': 'https://www.bbc.com/news/world', 'redirect_link': 'https://www.google.com/url?sa=t&source=web&rct=j&opi=89978449&url=https://www.bbc.com/news/world&ved=2ahUKEwi5xZz37cCNAxXdl4kEHbGvEuAQFnoECFgQAQ', 'displayed_link': 'https://www.bbc.com › news › world', 'favicon': 'https://serpapi.com/searches/683439458da5ea4a83599e15/images/a1e5f2d48cb5e598291b88bdfff01798cff16e6d023b0c62d12765cd24da488e.png', 'snippet': \"World · 'He has gone absolutely crazy': Trump rebukes Putin as Russia hits Ukraine with record drone attack · Israeli strikes across Gaza kill 54, officials say.\", 'snippet_highlighted_words': ['Trump rebukes Putin as Russia hits Ukraine with record drone attack'], 'sitelinks': {'inline': [{'title': 'BBC World News', 'link': 'https://www.bbc.com/news/world_radio_and_tv'}, {'title': 'Africa', 'link': 'https://www.bbc.com/news/world/africa'}, {'title': 'Middle East', 'link': 'https://www.bbc.com/news/world/middle_east'}, {'title': 'Europe', 'link': 'https://www.bbc.com/news/world/europe'}]}, 'source': 'BBC'}, {'position': 2, 'title': 'CNN: Breaking News, Latest News and Videos', 'link': 'https://www.cnn.com/', 'redirect_link': 'https://www.google.com/url?sa=t&source=web&rct=j&opi=89978449&url=https://www.cnn.com/&ved=2ahUKEwi5xZz37cCNAxXdl4kEHbGvEuAQFnoECD8QAQ', 'displayed_link': 'https://www.cnn.com', 'favicon': 'https://serpapi.com/searches/683439458da5ea4a83599e15/images/a1e5f2d48cb5e598291b88bdfff0179824154abd8473996c73264a5fae32e530.png', 'snippet': 'View the latest news and breaking news today for U.S., world, weather, entertainment, politics and health at CNN.com.', 'snippet_highlighted_words': ['breaking news today for U.S'], 'sitelinks': {'inline': [{'title': 'World', 'link': 'https://www.cnn.com/world'}, {'title': 'US', 'link': 'https://www.cnn.com/us'}, {'title': 'Politics', 'link': 'https://www.cnn.com/politics'}, {'title': 'Latest Videos', 'link': 'https://www.cnn.com/videos'}]}, 'source': 'CNN'}, {'position': 3, 'title': 'World News | Latest Top Stories', 'link': 'https://www.reuters.com/world/', 'redirect_link': 'https://www.google.com/url?sa=t&source=web&rct=j&opi=89978449&url=https://www.reuters.com/world/&ved=2ahUKEwi5xZz37cCNAxXdl4kEHbGvEuAQFnoECDIQAQ', 'displayed_link': 'https://www.reuters.com › world', 'favicon': 'https://serpapi.com/searches/683439458da5ea4a83599e15/images/a1e5f2d48cb5e598291b88bdfff01798ac84368b0b93492f9b036da37cd34117.png', 'snippet': \"World · Trump says Putin has 'gone absolutely CRAZY', considering more sanctions on Russia · Iran rejects temporary halt on uranium enrichment to secure US ...\", 'snippet_highlighted_words': [\"Trump says Putin has 'gone absolutely CRAZY', considering more sanctions on Russia\"], 'source': 'Reuters'}, {'position': 4, 'title': 'Latest news from around the world', 'link': 'https://www.theguardian.com/world', 'redirect_link': 'https://www.google.com/url?sa=t&source=web&rct=j&opi=89978449&url=https://www.theguardian.com/world&ved=2ahUKEwi5xZz37cCNAxXdl4kEHbGvEuAQFnoECDsQAQ', 'displayed_link': 'https://www.theguardian.com › world', 'favicon': 'https://serpapi.com/searches/683439458da5ea4a83599e15/images/a1e5f2d48cb5e598291b88bdfff01798eca50e721d755ae60db04720906526cb.png', 'snippet': \"Africa · Malawi battles mpox as cases of the infectious disease surge in Africa · Court halts Trump administration's effort to send eight men to South Sudan.\", 'snippet_highlighted_words': ['Malawi battles mpox as cases of the infectious disease surge in Africa'], 'sitelinks': {'inline': [{'title': 'Europe', 'link': 'https://www.theguardian.com/world/europe-news'}, {'title': 'Americas', 'link': 'https://www.theguardian.com/world/americas'}, {'title': 'Us', 'link': 'https://www.theguardian.com/us-news'}, {'title': 'Asia', 'link': 'https://www.theguardian.com/world/asia'}]}, 'source': 'The Guardian'}, {'position': 5, 'title': 'Breaking News, World News and Video from Al Jazeera', 'link': 'https://www.aljazeera.com/', 'redirect_link': 'https://www.google.com/url?sa=t&source=web&rct=j&opi=89978449&url=https://www.aljazeera.com/&ved=2ahUKEwi5xZz37cCNAxXdl4kEHbGvEuAQFnoECDoQAQ', 'displayed_link': 'https://www.aljazeera.com', 'favicon': 'https://serpapi.com/searches/683439458da5ea4a83599e15/images/a1e5f2d48cb5e598291b88bdfff01798de4d44098c05bb33b094d324f3d4563e.png', 'date': '3 hours ago', 'snippet': \"'Burned alive': Israel bombs Gaza school-turned-shelter, killing 36 · Israel's Ben-Gvir 'prays for victory' in Gaza war after storming Al-Aqsa ...\", 'snippet_highlighted_words': ['Israel bombs Gaza school-turned-shelter, killing 36'], 'source': 'Al Jazeera'}, {'position': 6, 'title': 'World News: Latest International Headlines, Video, and ...', 'link': 'https://www.nbcnews.com/world', 'redirect_link': 'https://www.google.com/url?sa=t&source=web&rct=j&opi=89978449&url=https://www.nbcnews.com/world&ved=2ahUKEwi5xZz37cCNAxXdl4kEHbGvEuAQFnoECDwQAQ', 'displayed_link': 'https://www.nbcnews.com › world', 'favicon': 'https://serpapi.com/searches/683439458da5ea4a83599e15/images/a1e5f2d48cb5e598291b88bdfff017982ec7e93b5df255ee4f8469eace0e1e4d.png', 'snippet': \"World · 2h ago. 'Duck Dynasty' founding father Phil Robertson dies at 79 · 3h ago. At least 11 hospitalized after South Carolina beach town shooting, police say.\", 'snippet_highlighted_words': ['World'], 'sitelinks': {'inline': [{'title': \"In the world's largest...\", 'link': 'https://www.nbcnews.com/news/world/donald-trump-tariffs-trade-war-china-largest-wholesale-market-rcna201290'}, {'title': 'As world leaders grapple with...', 'link': 'https://www.nbcnews.com/news/world/world-leaders-grapple-instability-trumps-attacks-are-making-moderates-rcna198521'}, {'title': 'Middle East conflict', 'link': 'https://www.nbcnews.com/middle-east-conflict'}, {'title': 'Asia', 'link': 'https://www.nbcnews.com/news/asia'}]}, 'source': 'NBC News'}, {'position': 7, 'title': 'Fox News - Breaking News Updates | Latest News Headlines ...', 'link': 'https://www.foxnews.com/', 'redirect_link': 'https://www.google.com/url?sa=t&source=web&rct=j&opi=89978449&url=https://www.foxnews.com/&ved=2ahUKEwi5xZz37cCNAxXdl4kEHbGvEuAQFnoECEQQAQ', 'displayed_link': 'https://www.foxnews.com', 'favicon': 'https://serpapi.com/searches/683439458da5ea4a83599e15/images/a1e5f2d48cb5e598291b88bdfff0179837cd0be858cc2356d001ec913a18fba2.png', 'snippet': 'Disgraced former police chief convicted of murder and rape escapes prison in Arkansas - Fox News · Denmark leads 9-nation challenge to European Court on migrant ...', 'snippet_highlighted_words': ['Disgraced former police chief convicted of murder and rape escapes prison in Arkansas'], 'sitelinks': {'inline': [{'title': 'World', 'link': 'https://www.foxnews.com/world'}, {'title': 'Fox News Go', 'link': 'https://www.foxnews.com/go'}, {'title': 'Politics', 'link': 'https://www.foxnews.com/politics'}, {'title': 'U.S.', 'link': 'https://www.foxnews.com/us'}]}, 'source': 'Fox News'}, {'position': 8, 'title': \"World news: Latest news, breaking news, today's ...\", 'link': 'https://www.cbsnews.com/world/', 'redirect_link': 'https://www.google.com/url?sa=t&source=web&rct=j&opi=89978449&url=https://www.cbsnews.com/world/&ved=2ahUKEwi5xZz37cCNAxXdl4kEHbGvEuAQFnoECD0QAQ', 'displayed_link': 'https://www.cbsnews.com › World', 'favicon': 'https://serpapi.com/searches/683439458da5ea4a83599e15/images/a1e5f2d48cb5e598291b88bdfff01798b5d03732aab24a2b17cbe61268f38999.png', 'snippet': \"Gaza doctor's 9 children killed in latest string of Israeli strikes, hospital says · Israel Palestinians. U.S.-German man arrested for attempted firebombing ...\", 'snippet_highlighted_words': [\"Gaza doctor's 9 children killed in latest string of Israeli strikes\"], 'sitelinks': {'inline': [{'title': \"World's busiest airports\", 'link': 'https://www.cbsnews.com/news/busiest-airports-in-the-world/'}, {'title': 'Show More', 'link': 'https://www.cbsnews.com/world/2/'}, {'title': \"Trump's tariffs draw rebukes...\", 'link': 'https://www.cbsnews.com/news/world-leaders-react-trump-sweeping-reciprocal-tariffs/'}]}, 'source': 'CBS News'}, {'position': 9, 'title': 'ABC News - Breaking News, Latest News and Videos', 'link': 'https://abcnews.go.com/', 'redirect_link': 'https://www.google.com/url?sa=t&source=web&rct=j&opi=89978449&url=https://abcnews.go.com/&ved=2ahUKEwi5xZz37cCNAxXdl4kEHbGvEuAQFnoECEEQAQ', 'displayed_link': 'https://abcnews.go.com', 'favicon': 'https://serpapi.com/searches/683439458da5ea4a83599e15/images/a1e5f2d48cb5e598291b88bdfff017980989f47bd01163143a832a9639516078.png', 'snippet': \"Russia renews massive air attacks on Ukraine after Trump calls Putin 'crazy'. Hundreds of drones and missiles were launched, officials said.\", 'snippet_highlighted_words': ['Russia renews massive air attacks on Ukraine'], 'sitelinks': {'inline': [{'title': 'International', 'link': 'https://abcnews.go.com/International'}, {'title': 'World News Tonight', 'link': 'https://abcnews.go.com/world-news-tonight-with-david-muir'}, {'title': 'U.S.', 'link': 'https://abcnews.go.com/US'}, {'title': 'Live', 'link': 'https://abcnews.go.com/Live'}]}, 'source': 'ABC News'}], 'top_stories': [{'title': 'Israeli strikes kill 52 in Gaza, including 36 in a school-turned-shelter, medics say', 'link': 'https://apnews.com/article/israel-palestinians-hamas-war-news-05-26-2025-6a7285f144a3619e8239138e6883b3b6', 'source': 'AP News', 'source_logo': 'https://serpapi.com/searches/683439458da5ea4a83599e15/images/a5bb2cfc859c037ab5d473b598f1b255c3e96cf6d7728e1c4d2f818c2c4ab388.png', 'date': '43 minutes ago', 'thumbnail': 'https://serpapi.com/searches/683439458da5ea4a83599e15/images/a5bb2cfc859c037a20b746e879cdec3c3a50ed0919c32a01.jpeg'}, {'title': '5 skiers found dead on mountain near Zermatt, Switzerland', 'link': 'https://www.usatoday.com/story/news/world/2025/05/25/skier-death-zermatt-switzerland/83854984007/', 'source': 'USA Today', 'source_logo': 'https://serpapi.com/searches/683439458da5ea4a83599e15/images/a5bb2cfc859c037adaebeb36cc69e0a920d0aa11f9edb708947ffc8089bfeab0.png', 'date': '14 hours ago', 'thumbnail': 'https://serpapi.com/searches/683439458da5ea4a83599e15/images/a5bb2cfc859c037a5c8da28cce28926d4caf76d5b1e830a1.jpeg'}, {'title': 'World Food Programme director calls food situation in Gaza ‘a catastrophe’', 'link': 'https://www.politico.com/news/2025/05/25/cindy-mcain-food-situation-gaza-catastrophe-00369715', 'source': 'Politico', 'source_logo': 'https://serpapi.com/searches/683439458da5ea4a83599e15/images/a5bb2cfc859c037a4ecb0f637888b51a1070b18e08ca89007c1c350c01ac0dda.png', 'date': '16 hours ago', 'thumbnail': 'https://serpapi.com/searches/683439458da5ea4a83599e15/images/a5bb2cfc859c037adaf18430a0e0e4fbab62a31806dfa9fb.jpeg'}, {'title': 'King travels to support Canada as it fends off Trump', 'link': 'https://www.bbc.com/news/articles/cgkdnmm8k2no', 'source': 'BBC', 'source_logo': 'https://serpapi.com/searches/683439458da5ea4a83599e15/images/a5bb2cfc859c037a66225cf6e400062e18670a7bd703083d7b91fd4fa7a6e0ee.png', 'date': '9 hours ago', 'thumbnail': 'https://serpapi.com/searches/683439458da5ea4a83599e15/images/a5bb2cfc859c037a6f4aa50e813061aa271e7f7e719c77a9.jpeg'}, {'title': 'North Korea Arrests 3 Over Failed Ship Launch That Angered Kim Jong-un', 'link': 'https://www.nytimes.com/2025/05/25/world/asia/north-korea-ship-launch-arrests.html', 'source': 'The New York Times', 'source_logo': 'https://serpapi.com/searches/683439458da5ea4a83599e15/images/a5bb2cfc859c037a21db517273ba2596a47c505118f9a63e8978a6383d61388e.png', 'date': '1 day ago', 'thumbnail': 'https://serpapi.com/searches/683439458da5ea4a83599e15/images/a5bb2cfc859c037aaab91d314be7b99a46620702a3ba6227.jpeg'}, {'title': \"'I am Roman,' Pope Leo says, as he becomes the bishop of Rome\", 'link': 'https://www.npr.org/2025/05/25/nx-s1-5411766/pope-leo-roman-bishop-of-rome', 'source': 'NPR', 'source_logo': 'https://serpapi.com/searches/683439458da5ea4a83599e15/images/a5bb2cfc859c037a2af09a1816b3d09aceaebe8c013af26c7200c22cf91630e4.png', 'date': '12 hours ago', 'thumbnail': 'https://serpapi.com/searches/683439458da5ea4a83599e15/images/a5bb2cfc859c037acc92baff92f2c48b8e35b6dc9968c0f4.jpeg'}], 'related_searches': [{'block_position': 1, 'query': 'Breaking news today', 'link': 'https://www.google.com/search?sca_esv=c702797afd47edb8&q=Breaking+news+today&sa=X&ved=2ahUKEwi5xZz37cCNAxXdl4kEHbGvEuAQ1QJ6BAhCEAE', 'serpapi_link': 'https://serpapi.com/search.json?device=desktop&engine=google&google_domain=google.com&q=Breaking+news+today'}, {'block_position': 1, 'query': 'World News today live', 'link': 'https://www.google.com/search?sca_esv=c702797afd47edb8&q=World+News+today+live&sa=X&ved=2ahUKEwi5xZz37cCNAxXdl4kEHbGvEuAQ1QJ6BAhAEAE', 'serpapi_link': 'https://serpapi.com/search.json?device=desktop&engine=google&google_domain=google.com&q=World+News+today+live'}, {'block_position': 1, 'query': 'Latest news in the world cnn', 'link': 'https://www.google.com/search?sca_esv=c702797afd47edb8&q=Latest+news+in+the+world+cnn&sa=X&ved=2ahUKEwi5xZz37cCNAxXdl4kEHbGvEuAQ1QJ6BAg5EAE', 'serpapi_link': 'https://serpapi.com/search.json?device=desktop&engine=google&google_domain=google.com&q=Latest+news+in+the+world+cnn'}, {'block_position': 1, 'query': 'Breaking news headlines today', 'link': 'https://www.google.com/search?sca_esv=c702797afd47edb8&q=Breaking+news+headlines+today&sa=X&ved=2ahUKEwi5xZz37cCNAxXdl4kEHbGvEuAQ1QJ6BAgzEAE', 'serpapi_link': 'https://serpapi.com/search.json?device=desktop&engine=google&google_domain=google.com&q=Breaking+news+headlines+today'}, {'block_position': 1, 'query': 'World news today headlines', 'link': 'https://www.google.com/search?sca_esv=c702797afd47edb8&q=World+news+today+headlines&sa=X&ved=2ahUKEwi5xZz37cCNAxXdl4kEHbGvEuAQ1QJ6BAgxEAE', 'serpapi_link': 'https://serpapi.com/search.json?device=desktop&engine=google&google_domain=google.com&q=World+news+today+headlines'}, {'block_position': 1, 'query': 'World news al Jazeera', 'link': 'https://www.google.com/search?sca_esv=c702797afd47edb8&q=World+news+al+Jazeera&sa=X&ved=2ahUKEwi5xZz37cCNAxXdl4kEHbGvEuAQ1QJ6BAgwEAE', 'serpapi_link': 'https://serpapi.com/search.json?device=desktop&engine=google&google_domain=google.com&q=World+news+al+Jazeera'}, {'block_position': 1, 'query': 'National News', 'link': 'https://www.google.com/search?sca_esv=c702797afd47edb8&q=National+News&sa=X&ved=2ahUKEwi5xZz37cCNAxXdl4kEHbGvEuAQ1QJ6BAgvEAE', 'serpapi_link': 'https://serpapi.com/search.json?device=desktop&engine=google&google_domain=google.com&q=National+News'}, {'block_position': 1, 'query': 'Breaking news Trump', 'link': 'https://www.google.com/search?sca_esv=c702797afd47edb8&q=Breaking+news+Trump&sa=X&ved=2ahUKEwi5xZz37cCNAxXdl4kEHbGvEuAQ1QJ6BAguEAE', 'serpapi_link': 'https://serpapi.com/search.json?device=desktop&engine=google&google_domain=google.com&q=Breaking+news+Trump'}], 'pagination': {'current': 1, 'next': 'https://www.google.com/search?q=latest+news+in+the+world&sca_esv=c702797afd47edb8&ei=RTk0aPmOKN2vptQPsd_KgA4&start=10&sa=N&sstk=Ac65TH4szxdZFy2YpnWiJm4ESolybeNVYE7rtRBaFZcnn7-OLW4HbmTprJidUuEUNuScfvYec3FfMF3FTzCODdU7TDkve6yzfoqAmQ&ved=2ahUKEwi5xZz37cCNAxXdl4kEHbGvEuAQ8NMDegQIDhAW', 'other_pages': {'2': 'https://www.google.com/search?q=latest+news+in+the+world&sca_esv=c702797afd47edb8&ei=RTk0aPmOKN2vptQPsd_KgA4&start=10&sa=N&sstk=Ac65TH4szxdZFy2YpnWiJm4ESolybeNVYE7rtRBaFZcnn7-OLW4HbmTprJidUuEUNuScfvYec3FfMF3FTzCODdU7TDkve6yzfoqAmQ&ved=2ahUKEwi5xZz37cCNAxXdl4kEHbGvEuAQ8tMDegQIDhAE', '3': 'https://www.google.com/search?q=latest+news+in+the+world&sca_esv=c702797afd47edb8&ei=RTk0aPmOKN2vptQPsd_KgA4&start=20&sa=N&sstk=Ac65TH4szxdZFy2YpnWiJm4ESolybeNVYE7rtRBaFZcnn7-OLW4HbmTprJidUuEUNuScfvYec3FfMF3FTzCODdU7TDkve6yzfoqAmQ&ved=2ahUKEwi5xZz37cCNAxXdl4kEHbGvEuAQ8tMDegQIDhAG', '4': 'https://www.google.com/search?q=latest+news+in+the+world&sca_esv=c702797afd47edb8&ei=RTk0aPmOKN2vptQPsd_KgA4&start=30&sa=N&sstk=Ac65TH4szxdZFy2YpnWiJm4ESolybeNVYE7rtRBaFZcnn7-OLW4HbmTprJidUuEUNuScfvYec3FfMF3FTzCODdU7TDkve6yzfoqAmQ&ved=2ahUKEwi5xZz37cCNAxXdl4kEHbGvEuAQ8tMDegQIDhAI', '5': 'https://www.google.com/search?q=latest+news+in+the+world&sca_esv=c702797afd47edb8&ei=RTk0aPmOKN2vptQPsd_KgA4&start=40&sa=N&sstk=Ac65TH4szxdZFy2YpnWiJm4ESolybeNVYE7rtRBaFZcnn7-OLW4HbmTprJidUuEUNuScfvYec3FfMF3FTzCODdU7TDkve6yzfoqAmQ&ved=2ahUKEwi5xZz37cCNAxXdl4kEHbGvEuAQ8tMDegQIDhAK', '6': 'https://www.google.com/search?q=latest+news+in+the+world&sca_esv=c702797afd47edb8&ei=RTk0aPmOKN2vptQPsd_KgA4&start=50&sa=N&sstk=Ac65TH4szxdZFy2YpnWiJm4ESolybeNVYE7rtRBaFZcnn7-OLW4HbmTprJidUuEUNuScfvYec3FfMF3FTzCODdU7TDkve6yzfoqAmQ&ved=2ahUKEwi5xZz37cCNAxXdl4kEHbGvEuAQ8tMDegQIDhAM', '7': 'https://www.google.com/search?q=latest+news+in+the+world&sca_esv=c702797afd47edb8&ei=RTk0aPmOKN2vptQPsd_KgA4&start=60&sa=N&sstk=Ac65TH4szxdZFy2YpnWiJm4ESolybeNVYE7rtRBaFZcnn7-OLW4HbmTprJidUuEUNuScfvYec3FfMF3FTzCODdU7TDkve6yzfoqAmQ&ved=2ahUKEwi5xZz37cCNAxXdl4kEHbGvEuAQ8tMDegQIDhAO', '8': 'https://www.google.com/search?q=latest+news+in+the+world&sca_esv=c702797afd47edb8&ei=RTk0aPmOKN2vptQPsd_KgA4&start=70&sa=N&sstk=Ac65TH4szxdZFy2YpnWiJm4ESolybeNVYE7rtRBaFZcnn7-OLW4HbmTprJidUuEUNuScfvYec3FfMF3FTzCODdU7TDkve6yzfoqAmQ&ved=2ahUKEwi5xZz37cCNAxXdl4kEHbGvEuAQ8tMDegQIDhAQ', '9': 'https://www.google.com/search?q=latest+news+in+the+world&sca_esv=c702797afd47edb8&ei=RTk0aPmOKN2vptQPsd_KgA4&start=80&sa=N&sstk=Ac65TH4szxdZFy2YpnWiJm4ESolybeNVYE7rtRBaFZcnn7-OLW4HbmTprJidUuEUNuScfvYec3FfMF3FTzCODdU7TDkve6yzfoqAmQ&ved=2ahUKEwi5xZz37cCNAxXdl4kEHbGvEuAQ8tMDegQIDhAS', '10': 'https://www.google.com/search?q=latest+news+in+the+world&sca_esv=c702797afd47edb8&ei=RTk0aPmOKN2vptQPsd_KgA4&start=90&sa=N&sstk=Ac65TH4szxdZFy2YpnWiJm4ESolybeNVYE7rtRBaFZcnn7-OLW4HbmTprJidUuEUNuScfvYec3FfMF3FTzCODdU7TDkve6yzfoqAmQ&ved=2ahUKEwi5xZz37cCNAxXdl4kEHbGvEuAQ8tMDegQIDhAU'}}, 'serpapi_pagination': {'current': 1, 'next_link': 'https://serpapi.com/search.json?device=desktop&engine=google&google_domain=google.com&q=latest+news+in+the+world&start=10', 'next': 'https://serpapi.com/search.json?device=desktop&engine=google&google_domain=google.com&q=latest+news+in+the+world&start=10', 'other_pages': {'2': 'https://serpapi.com/search.json?device=desktop&engine=google&google_domain=google.com&q=latest+news+in+the+world&start=10', '3': 'https://serpapi.com/search.json?device=desktop&engine=google&google_domain=google.com&q=latest+news+in+the+world&start=20', '4': 'https://serpapi.com/search.json?device=desktop&engine=google&google_domain=google.com&q=latest+news+in+the+world&start=30', '5': 'https://serpapi.com/search.json?device=desktop&engine=google&google_domain=google.com&q=latest+news+in+the+world&start=40', '6': 'https://serpapi.com/search.json?device=desktop&engine=google&google_domain=google.com&q=latest+news+in+the+world&start=50', '7': 'https://serpapi.com/search.json?device=desktop&engine=google&google_domain=google.com&q=latest+news+in+the+world&start=60', '8': 'https://serpapi.com/search.json?device=desktop&engine=google&google_domain=google.com&q=latest+news+in+the+world&start=70', '9': 'https://serpapi.com/search.json?device=desktop&engine=google&google_domain=google.com&q=latest+news+in+the+world&start=80', '10': 'https://serpapi.com/search.json?device=desktop&engine=google&google_domain=google.com&q=latest+news+in+the+world&start=90'}}}\n"
     ]
    }
   ],
   "source": [
    "from serpapi import GoogleSearch\n",
    "from getpass import getpass\n",
    "\n",
    "SERPAPI_API_KEY = getpass(\"Enter your SerpAPI API key: \")\n",
    "\n",
    "params = {\n",
    "    \"api_key\": SERPAPI_API_KEY,\n",
    "    \"engine\": \"google\",\n",
    "    \"q\": \"latest news in the world\",\n",
    "}\n",
    "\n",
    "search = GoogleSearch(params)\n",
    "results = search.get_dict()\n",
    "\n",
    "print(results)"
   ]
  },
  {
   "cell_type": "markdown",
   "metadata": {},
   "source": [
    "Our results are provided in the `\"organic_results\"` key:"
   ]
  },
  {
   "cell_type": "code",
   "execution_count": 4,
   "metadata": {},
   "outputs": [
    {
     "data": {
      "text/plain": [
       "[{'position': 1,\n",
       "  'title': 'World | Latest News & Updates',\n",
       "  'link': 'https://www.bbc.com/news/world',\n",
       "  'redirect_link': 'https://www.google.com/url?sa=t&source=web&rct=j&opi=89978449&url=https://www.bbc.com/news/world&ved=2ahUKEwi5xZz37cCNAxXdl4kEHbGvEuAQFnoECFgQAQ',\n",
       "  'displayed_link': 'https://www.bbc.com › news › world',\n",
       "  'favicon': 'https://serpapi.com/searches/683439458da5ea4a83599e15/images/a1e5f2d48cb5e598291b88bdfff01798cff16e6d023b0c62d12765cd24da488e.png',\n",
       "  'snippet': \"World · 'He has gone absolutely crazy': Trump rebukes Putin as Russia hits Ukraine with record drone attack · Israeli strikes across Gaza kill 54, officials say.\",\n",
       "  'snippet_highlighted_words': ['Trump rebukes Putin as Russia hits Ukraine with record drone attack'],\n",
       "  'sitelinks': {'inline': [{'title': 'BBC World News',\n",
       "     'link': 'https://www.bbc.com/news/world_radio_and_tv'},\n",
       "    {'title': 'Africa', 'link': 'https://www.bbc.com/news/world/africa'},\n",
       "    {'title': 'Middle East',\n",
       "     'link': 'https://www.bbc.com/news/world/middle_east'},\n",
       "    {'title': 'Europe', 'link': 'https://www.bbc.com/news/world/europe'}]},\n",
       "  'source': 'BBC'},\n",
       " {'position': 2,\n",
       "  'title': 'CNN: Breaking News, Latest News and Videos',\n",
       "  'link': 'https://www.cnn.com/',\n",
       "  'redirect_link': 'https://www.google.com/url?sa=t&source=web&rct=j&opi=89978449&url=https://www.cnn.com/&ved=2ahUKEwi5xZz37cCNAxXdl4kEHbGvEuAQFnoECD8QAQ',\n",
       "  'displayed_link': 'https://www.cnn.com',\n",
       "  'favicon': 'https://serpapi.com/searches/683439458da5ea4a83599e15/images/a1e5f2d48cb5e598291b88bdfff0179824154abd8473996c73264a5fae32e530.png',\n",
       "  'snippet': 'View the latest news and breaking news today for U.S., world, weather, entertainment, politics and health at CNN.com.',\n",
       "  'snippet_highlighted_words': ['breaking news today for U.S'],\n",
       "  'sitelinks': {'inline': [{'title': 'World',\n",
       "     'link': 'https://www.cnn.com/world'},\n",
       "    {'title': 'US', 'link': 'https://www.cnn.com/us'},\n",
       "    {'title': 'Politics', 'link': 'https://www.cnn.com/politics'},\n",
       "    {'title': 'Latest Videos', 'link': 'https://www.cnn.com/videos'}]},\n",
       "  'source': 'CNN'},\n",
       " {'position': 3,\n",
       "  'title': 'World News | Latest Top Stories',\n",
       "  'link': 'https://www.reuters.com/world/',\n",
       "  'redirect_link': 'https://www.google.com/url?sa=t&source=web&rct=j&opi=89978449&url=https://www.reuters.com/world/&ved=2ahUKEwi5xZz37cCNAxXdl4kEHbGvEuAQFnoECDIQAQ',\n",
       "  'displayed_link': 'https://www.reuters.com › world',\n",
       "  'favicon': 'https://serpapi.com/searches/683439458da5ea4a83599e15/images/a1e5f2d48cb5e598291b88bdfff01798ac84368b0b93492f9b036da37cd34117.png',\n",
       "  'snippet': \"World · Trump says Putin has 'gone absolutely CRAZY', considering more sanctions on Russia · Iran rejects temporary halt on uranium enrichment to secure US ...\",\n",
       "  'snippet_highlighted_words': [\"Trump says Putin has 'gone absolutely CRAZY', considering more sanctions on Russia\"],\n",
       "  'source': 'Reuters'},\n",
       " {'position': 4,\n",
       "  'title': 'Latest news from around the world',\n",
       "  'link': 'https://www.theguardian.com/world',\n",
       "  'redirect_link': 'https://www.google.com/url?sa=t&source=web&rct=j&opi=89978449&url=https://www.theguardian.com/world&ved=2ahUKEwi5xZz37cCNAxXdl4kEHbGvEuAQFnoECDsQAQ',\n",
       "  'displayed_link': 'https://www.theguardian.com › world',\n",
       "  'favicon': 'https://serpapi.com/searches/683439458da5ea4a83599e15/images/a1e5f2d48cb5e598291b88bdfff01798eca50e721d755ae60db04720906526cb.png',\n",
       "  'snippet': \"Africa · Malawi battles mpox as cases of the infectious disease surge in Africa · Court halts Trump administration's effort to send eight men to South Sudan.\",\n",
       "  'snippet_highlighted_words': ['Malawi battles mpox as cases of the infectious disease surge in Africa'],\n",
       "  'sitelinks': {'inline': [{'title': 'Europe',\n",
       "     'link': 'https://www.theguardian.com/world/europe-news'},\n",
       "    {'title': 'Americas',\n",
       "     'link': 'https://www.theguardian.com/world/americas'},\n",
       "    {'title': 'Us', 'link': 'https://www.theguardian.com/us-news'},\n",
       "    {'title': 'Asia', 'link': 'https://www.theguardian.com/world/asia'}]},\n",
       "  'source': 'The Guardian'},\n",
       " {'position': 5,\n",
       "  'title': 'Breaking News, World News and Video from Al Jazeera',\n",
       "  'link': 'https://www.aljazeera.com/',\n",
       "  'redirect_link': 'https://www.google.com/url?sa=t&source=web&rct=j&opi=89978449&url=https://www.aljazeera.com/&ved=2ahUKEwi5xZz37cCNAxXdl4kEHbGvEuAQFnoECDoQAQ',\n",
       "  'displayed_link': 'https://www.aljazeera.com',\n",
       "  'favicon': 'https://serpapi.com/searches/683439458da5ea4a83599e15/images/a1e5f2d48cb5e598291b88bdfff01798de4d44098c05bb33b094d324f3d4563e.png',\n",
       "  'date': '3 hours ago',\n",
       "  'snippet': \"'Burned alive': Israel bombs Gaza school-turned-shelter, killing 36 · Israel's Ben-Gvir 'prays for victory' in Gaza war after storming Al-Aqsa ...\",\n",
       "  'snippet_highlighted_words': ['Israel bombs Gaza school-turned-shelter, killing 36'],\n",
       "  'source': 'Al Jazeera'},\n",
       " {'position': 6,\n",
       "  'title': 'World News: Latest International Headlines, Video, and ...',\n",
       "  'link': 'https://www.nbcnews.com/world',\n",
       "  'redirect_link': 'https://www.google.com/url?sa=t&source=web&rct=j&opi=89978449&url=https://www.nbcnews.com/world&ved=2ahUKEwi5xZz37cCNAxXdl4kEHbGvEuAQFnoECDwQAQ',\n",
       "  'displayed_link': 'https://www.nbcnews.com › world',\n",
       "  'favicon': 'https://serpapi.com/searches/683439458da5ea4a83599e15/images/a1e5f2d48cb5e598291b88bdfff017982ec7e93b5df255ee4f8469eace0e1e4d.png',\n",
       "  'snippet': \"World · 2h ago. 'Duck Dynasty' founding father Phil Robertson dies at 79 · 3h ago. At least 11 hospitalized after South Carolina beach town shooting, police say.\",\n",
       "  'snippet_highlighted_words': ['World'],\n",
       "  'sitelinks': {'inline': [{'title': \"In the world's largest...\",\n",
       "     'link': 'https://www.nbcnews.com/news/world/donald-trump-tariffs-trade-war-china-largest-wholesale-market-rcna201290'},\n",
       "    {'title': 'As world leaders grapple with...',\n",
       "     'link': 'https://www.nbcnews.com/news/world/world-leaders-grapple-instability-trumps-attacks-are-making-moderates-rcna198521'},\n",
       "    {'title': 'Middle East conflict',\n",
       "     'link': 'https://www.nbcnews.com/middle-east-conflict'},\n",
       "    {'title': 'Asia', 'link': 'https://www.nbcnews.com/news/asia'}]},\n",
       "  'source': 'NBC News'},\n",
       " {'position': 7,\n",
       "  'title': 'Fox News - Breaking News Updates | Latest News Headlines ...',\n",
       "  'link': 'https://www.foxnews.com/',\n",
       "  'redirect_link': 'https://www.google.com/url?sa=t&source=web&rct=j&opi=89978449&url=https://www.foxnews.com/&ved=2ahUKEwi5xZz37cCNAxXdl4kEHbGvEuAQFnoECEQQAQ',\n",
       "  'displayed_link': 'https://www.foxnews.com',\n",
       "  'favicon': 'https://serpapi.com/searches/683439458da5ea4a83599e15/images/a1e5f2d48cb5e598291b88bdfff0179837cd0be858cc2356d001ec913a18fba2.png',\n",
       "  'snippet': 'Disgraced former police chief convicted of murder and rape escapes prison in Arkansas - Fox News · Denmark leads 9-nation challenge to European Court on migrant ...',\n",
       "  'snippet_highlighted_words': ['Disgraced former police chief convicted of murder and rape escapes prison in Arkansas'],\n",
       "  'sitelinks': {'inline': [{'title': 'World',\n",
       "     'link': 'https://www.foxnews.com/world'},\n",
       "    {'title': 'Fox News Go', 'link': 'https://www.foxnews.com/go'},\n",
       "    {'title': 'Politics', 'link': 'https://www.foxnews.com/politics'},\n",
       "    {'title': 'U.S.', 'link': 'https://www.foxnews.com/us'}]},\n",
       "  'source': 'Fox News'},\n",
       " {'position': 8,\n",
       "  'title': \"World news: Latest news, breaking news, today's ...\",\n",
       "  'link': 'https://www.cbsnews.com/world/',\n",
       "  'redirect_link': 'https://www.google.com/url?sa=t&source=web&rct=j&opi=89978449&url=https://www.cbsnews.com/world/&ved=2ahUKEwi5xZz37cCNAxXdl4kEHbGvEuAQFnoECD0QAQ',\n",
       "  'displayed_link': 'https://www.cbsnews.com › World',\n",
       "  'favicon': 'https://serpapi.com/searches/683439458da5ea4a83599e15/images/a1e5f2d48cb5e598291b88bdfff01798b5d03732aab24a2b17cbe61268f38999.png',\n",
       "  'snippet': \"Gaza doctor's 9 children killed in latest string of Israeli strikes, hospital says · Israel Palestinians. U.S.-German man arrested for attempted firebombing ...\",\n",
       "  'snippet_highlighted_words': [\"Gaza doctor's 9 children killed in latest string of Israeli strikes\"],\n",
       "  'sitelinks': {'inline': [{'title': \"World's busiest airports\",\n",
       "     'link': 'https://www.cbsnews.com/news/busiest-airports-in-the-world/'},\n",
       "    {'title': 'Show More', 'link': 'https://www.cbsnews.com/world/2/'},\n",
       "    {'title': \"Trump's tariffs draw rebukes...\",\n",
       "     'link': 'https://www.cbsnews.com/news/world-leaders-react-trump-sweeping-reciprocal-tariffs/'}]},\n",
       "  'source': 'CBS News'},\n",
       " {'position': 9,\n",
       "  'title': 'ABC News - Breaking News, Latest News and Videos',\n",
       "  'link': 'https://abcnews.go.com/',\n",
       "  'redirect_link': 'https://www.google.com/url?sa=t&source=web&rct=j&opi=89978449&url=https://abcnews.go.com/&ved=2ahUKEwi5xZz37cCNAxXdl4kEHbGvEuAQFnoECEEQAQ',\n",
       "  'displayed_link': 'https://abcnews.go.com',\n",
       "  'favicon': 'https://serpapi.com/searches/683439458da5ea4a83599e15/images/a1e5f2d48cb5e598291b88bdfff017980989f47bd01163143a832a9639516078.png',\n",
       "  'snippet': \"Russia renews massive air attacks on Ukraine after Trump calls Putin 'crazy'. Hundreds of drones and missiles were launched, officials said.\",\n",
       "  'snippet_highlighted_words': ['Russia renews massive air attacks on Ukraine'],\n",
       "  'sitelinks': {'inline': [{'title': 'International',\n",
       "     'link': 'https://abcnews.go.com/International'},\n",
       "    {'title': 'World News Tonight',\n",
       "     'link': 'https://abcnews.go.com/world-news-tonight-with-david-muir'},\n",
       "    {'title': 'U.S.', 'link': 'https://abcnews.go.com/US'},\n",
       "    {'title': 'Live', 'link': 'https://abcnews.go.com/Live'}]},\n",
       "  'source': 'ABC News'}]"
      ]
     },
     "execution_count": 4,
     "metadata": {},
     "output_type": "execute_result"
    }
   ],
   "source": [
    "results[\"organic_results\"]"
   ]
  },
  {
   "cell_type": "markdown",
   "metadata": {},
   "source": [
    "We reformat this to extract only the most relevant information, such as the the title, source, link, and snippet. Let's use pydantic `BaseModel` to define this structure."
   ]
  },
  {
   "cell_type": "code",
   "execution_count": 5,
   "metadata": {},
   "outputs": [],
   "source": [
    "from pydantic import BaseModel\n",
    "\n",
    "class Article(BaseModel):\n",
    "    title: str\n",
    "    source: str\n",
    "    link: str\n",
    "    snippet: str\n",
    "\n",
    "    @classmethod\n",
    "    def from_serpapi_result(cls, result: dict) -> \"Article\":\n",
    "        return cls(\n",
    "            title=result[\"title\"],\n",
    "            source=result[\"source\"],\n",
    "            link=result[\"link\"],\n",
    "            snippet=result[\"snippet\"],\n",
    "        )"
   ]
  },
  {
   "cell_type": "code",
   "execution_count": 6,
   "metadata": {},
   "outputs": [],
   "source": [
    "articles = [Article.from_serpapi_result(result) for result in results[\"organic_results\"]]"
   ]
  },
  {
   "cell_type": "markdown",
   "metadata": {},
   "source": [
    "## Using Async"
   ]
  },
  {
   "cell_type": "markdown",
   "metadata": {},
   "source": [
    "All of this works, but it unfortunately is not async and the SerpAPI SDK does not support async either, so we much query the API directly using the `aiohttp` library."
   ]
  },
  {
   "cell_type": "code",
   "execution_count": 7,
   "metadata": {},
   "outputs": [
    {
     "data": {
      "text/plain": [
       "[{'position': 1,\n",
       "  'title': 'World | Latest News & Updates',\n",
       "  'link': 'https://www.bbc.com/news/world',\n",
       "  'redirect_link': 'https://www.google.com/url?sa=t&source=web&rct=j&opi=89978449&url=https://www.bbc.com/news/world&ved=2ahUKEwi5xZz37cCNAxXdl4kEHbGvEuAQFnoECFgQAQ',\n",
       "  'displayed_link': 'https://www.bbc.com › news › world',\n",
       "  'favicon': 'https://serpapi.com/searches/683439458da5ea4a83599e15/images/a1e5f2d48cb5e598291b88bdfff01798cff16e6d023b0c62d12765cd24da488e.png',\n",
       "  'snippet': \"World · 'He has gone absolutely crazy': Trump rebukes Putin as Russia hits Ukraine with record drone attack · Israeli strikes across Gaza kill 54, officials say.\",\n",
       "  'snippet_highlighted_words': ['Trump rebukes Putin as Russia hits Ukraine with record drone attack'],\n",
       "  'sitelinks': {'inline': [{'title': 'BBC World News',\n",
       "     'link': 'https://www.bbc.com/news/world_radio_and_tv'},\n",
       "    {'title': 'Africa', 'link': 'https://www.bbc.com/news/world/africa'},\n",
       "    {'title': 'Middle East',\n",
       "     'link': 'https://www.bbc.com/news/world/middle_east'},\n",
       "    {'title': 'Europe', 'link': 'https://www.bbc.com/news/world/europe'}]},\n",
       "  'source': 'BBC'},\n",
       " {'position': 2,\n",
       "  'title': 'CNN: Breaking News, Latest News and Videos',\n",
       "  'link': 'https://www.cnn.com/',\n",
       "  'redirect_link': 'https://www.google.com/url?sa=t&source=web&rct=j&opi=89978449&url=https://www.cnn.com/&ved=2ahUKEwi5xZz37cCNAxXdl4kEHbGvEuAQFnoECD8QAQ',\n",
       "  'displayed_link': 'https://www.cnn.com',\n",
       "  'favicon': 'https://serpapi.com/searches/683439458da5ea4a83599e15/images/a1e5f2d48cb5e598291b88bdfff0179824154abd8473996c73264a5fae32e530.png',\n",
       "  'snippet': 'View the latest news and breaking news today for U.S., world, weather, entertainment, politics and health at CNN.com.',\n",
       "  'snippet_highlighted_words': ['breaking news today for U.S'],\n",
       "  'sitelinks': {'inline': [{'title': 'World',\n",
       "     'link': 'https://www.cnn.com/world'},\n",
       "    {'title': 'US', 'link': 'https://www.cnn.com/us'},\n",
       "    {'title': 'Politics', 'link': 'https://www.cnn.com/politics'},\n",
       "    {'title': 'Latest Videos', 'link': 'https://www.cnn.com/videos'}]},\n",
       "  'source': 'CNN'},\n",
       " {'position': 3,\n",
       "  'title': 'World News | Latest Top Stories',\n",
       "  'link': 'https://www.reuters.com/world/',\n",
       "  'redirect_link': 'https://www.google.com/url?sa=t&source=web&rct=j&opi=89978449&url=https://www.reuters.com/world/&ved=2ahUKEwi5xZz37cCNAxXdl4kEHbGvEuAQFnoECDIQAQ',\n",
       "  'displayed_link': 'https://www.reuters.com › world',\n",
       "  'favicon': 'https://serpapi.com/searches/683439458da5ea4a83599e15/images/a1e5f2d48cb5e598291b88bdfff01798ac84368b0b93492f9b036da37cd34117.png',\n",
       "  'snippet': \"World · Trump says Putin has 'gone absolutely CRAZY', considering more sanctions on Russia · Iran rejects temporary halt on uranium enrichment to secure US ...\",\n",
       "  'snippet_highlighted_words': [\"Trump says Putin has 'gone absolutely CRAZY', considering more sanctions on Russia\"],\n",
       "  'source': 'Reuters'},\n",
       " {'position': 4,\n",
       "  'title': 'Latest news from around the world',\n",
       "  'link': 'https://www.theguardian.com/world',\n",
       "  'redirect_link': 'https://www.google.com/url?sa=t&source=web&rct=j&opi=89978449&url=https://www.theguardian.com/world&ved=2ahUKEwi5xZz37cCNAxXdl4kEHbGvEuAQFnoECDsQAQ',\n",
       "  'displayed_link': 'https://www.theguardian.com › world',\n",
       "  'favicon': 'https://serpapi.com/searches/683439458da5ea4a83599e15/images/a1e5f2d48cb5e598291b88bdfff01798eca50e721d755ae60db04720906526cb.png',\n",
       "  'snippet': \"Africa · Malawi battles mpox as cases of the infectious disease surge in Africa · Court halts Trump administration's effort to send eight men to South Sudan.\",\n",
       "  'snippet_highlighted_words': ['Malawi battles mpox as cases of the infectious disease surge in Africa'],\n",
       "  'sitelinks': {'inline': [{'title': 'Europe',\n",
       "     'link': 'https://www.theguardian.com/world/europe-news'},\n",
       "    {'title': 'Americas',\n",
       "     'link': 'https://www.theguardian.com/world/americas'},\n",
       "    {'title': 'Us', 'link': 'https://www.theguardian.com/us-news'},\n",
       "    {'title': 'Asia', 'link': 'https://www.theguardian.com/world/asia'}]},\n",
       "  'source': 'The Guardian'},\n",
       " {'position': 5,\n",
       "  'title': 'Breaking News, World News and Video from Al Jazeera',\n",
       "  'link': 'https://www.aljazeera.com/',\n",
       "  'redirect_link': 'https://www.google.com/url?sa=t&source=web&rct=j&opi=89978449&url=https://www.aljazeera.com/&ved=2ahUKEwi5xZz37cCNAxXdl4kEHbGvEuAQFnoECDoQAQ',\n",
       "  'displayed_link': 'https://www.aljazeera.com',\n",
       "  'favicon': 'https://serpapi.com/searches/683439458da5ea4a83599e15/images/a1e5f2d48cb5e598291b88bdfff01798de4d44098c05bb33b094d324f3d4563e.png',\n",
       "  'date': '3 hours ago',\n",
       "  'snippet': \"'Burned alive': Israel bombs Gaza school-turned-shelter, killing 36 · Israel's Ben-Gvir 'prays for victory' in Gaza war after storming Al-Aqsa ...\",\n",
       "  'snippet_highlighted_words': ['Israel bombs Gaza school-turned-shelter, killing 36'],\n",
       "  'source': 'Al Jazeera'},\n",
       " {'position': 6,\n",
       "  'title': 'World News: Latest International Headlines, Video, and ...',\n",
       "  'link': 'https://www.nbcnews.com/world',\n",
       "  'redirect_link': 'https://www.google.com/url?sa=t&source=web&rct=j&opi=89978449&url=https://www.nbcnews.com/world&ved=2ahUKEwi5xZz37cCNAxXdl4kEHbGvEuAQFnoECDwQAQ',\n",
       "  'displayed_link': 'https://www.nbcnews.com › world',\n",
       "  'favicon': 'https://serpapi.com/searches/683439458da5ea4a83599e15/images/a1e5f2d48cb5e598291b88bdfff017982ec7e93b5df255ee4f8469eace0e1e4d.png',\n",
       "  'snippet': \"World · 2h ago. 'Duck Dynasty' founding father Phil Robertson dies at 79 · 3h ago. At least 11 hospitalized after South Carolina beach town shooting, police say.\",\n",
       "  'snippet_highlighted_words': ['World'],\n",
       "  'sitelinks': {'inline': [{'title': \"In the world's largest...\",\n",
       "     'link': 'https://www.nbcnews.com/news/world/donald-trump-tariffs-trade-war-china-largest-wholesale-market-rcna201290'},\n",
       "    {'title': 'As world leaders grapple with...',\n",
       "     'link': 'https://www.nbcnews.com/news/world/world-leaders-grapple-instability-trumps-attacks-are-making-moderates-rcna198521'},\n",
       "    {'title': 'Middle East conflict',\n",
       "     'link': 'https://www.nbcnews.com/middle-east-conflict'},\n",
       "    {'title': 'Asia', 'link': 'https://www.nbcnews.com/news/asia'}]},\n",
       "  'source': 'NBC News'},\n",
       " {'position': 7,\n",
       "  'title': 'Fox News - Breaking News Updates | Latest News Headlines ...',\n",
       "  'link': 'https://www.foxnews.com/',\n",
       "  'redirect_link': 'https://www.google.com/url?sa=t&source=web&rct=j&opi=89978449&url=https://www.foxnews.com/&ved=2ahUKEwi5xZz37cCNAxXdl4kEHbGvEuAQFnoECEQQAQ',\n",
       "  'displayed_link': 'https://www.foxnews.com',\n",
       "  'favicon': 'https://serpapi.com/searches/683439458da5ea4a83599e15/images/a1e5f2d48cb5e598291b88bdfff0179837cd0be858cc2356d001ec913a18fba2.png',\n",
       "  'snippet': 'Disgraced former police chief convicted of murder and rape escapes prison in Arkansas - Fox News · Denmark leads 9-nation challenge to European Court on migrant ...',\n",
       "  'snippet_highlighted_words': ['Disgraced former police chief convicted of murder and rape escapes prison in Arkansas'],\n",
       "  'sitelinks': {'inline': [{'title': 'World',\n",
       "     'link': 'https://www.foxnews.com/world'},\n",
       "    {'title': 'Fox News Go', 'link': 'https://www.foxnews.com/go'},\n",
       "    {'title': 'Politics', 'link': 'https://www.foxnews.com/politics'},\n",
       "    {'title': 'U.S.', 'link': 'https://www.foxnews.com/us'}]},\n",
       "  'source': 'Fox News'},\n",
       " {'position': 8,\n",
       "  'title': \"World news: Latest news, breaking news, today's ...\",\n",
       "  'link': 'https://www.cbsnews.com/world/',\n",
       "  'redirect_link': 'https://www.google.com/url?sa=t&source=web&rct=j&opi=89978449&url=https://www.cbsnews.com/world/&ved=2ahUKEwi5xZz37cCNAxXdl4kEHbGvEuAQFnoECD0QAQ',\n",
       "  'displayed_link': 'https://www.cbsnews.com › World',\n",
       "  'favicon': 'https://serpapi.com/searches/683439458da5ea4a83599e15/images/a1e5f2d48cb5e598291b88bdfff01798b5d03732aab24a2b17cbe61268f38999.png',\n",
       "  'snippet': \"Gaza doctor's 9 children killed in latest string of Israeli strikes, hospital says · Israel Palestinians. U.S.-German man arrested for attempted firebombing ...\",\n",
       "  'snippet_highlighted_words': [\"Gaza doctor's 9 children killed in latest string of Israeli strikes\"],\n",
       "  'sitelinks': {'inline': [{'title': \"World's busiest airports\",\n",
       "     'link': 'https://www.cbsnews.com/news/busiest-airports-in-the-world/'},\n",
       "    {'title': 'Show More', 'link': 'https://www.cbsnews.com/world/2/'},\n",
       "    {'title': \"Trump's tariffs draw rebukes...\",\n",
       "     'link': 'https://www.cbsnews.com/news/world-leaders-react-trump-sweeping-reciprocal-tariffs/'}]},\n",
       "  'source': 'CBS News'},\n",
       " {'position': 9,\n",
       "  'title': 'ABC News - Breaking News, Latest News and Videos',\n",
       "  'link': 'https://abcnews.go.com/',\n",
       "  'redirect_link': 'https://www.google.com/url?sa=t&source=web&rct=j&opi=89978449&url=https://abcnews.go.com/&ved=2ahUKEwi5xZz37cCNAxXdl4kEHbGvEuAQFnoECEEQAQ',\n",
       "  'displayed_link': 'https://abcnews.go.com',\n",
       "  'favicon': 'https://serpapi.com/searches/683439458da5ea4a83599e15/images/a1e5f2d48cb5e598291b88bdfff017980989f47bd01163143a832a9639516078.png',\n",
       "  'snippet': \"Russia renews massive air attacks on Ukraine after Trump calls Putin 'crazy'. Hundreds of drones and missiles were launched, officials said.\",\n",
       "  'snippet_highlighted_words': ['Russia renews massive air attacks on Ukraine'],\n",
       "  'sitelinks': {'inline': [{'title': 'International',\n",
       "     'link': 'https://abcnews.go.com/International'},\n",
       "    {'title': 'World News Tonight',\n",
       "     'link': 'https://abcnews.go.com/world-news-tonight-with-david-muir'},\n",
       "    {'title': 'U.S.', 'link': 'https://abcnews.go.com/US'},\n",
       "    {'title': 'Live', 'link': 'https://abcnews.go.com/Live'}]},\n",
       "  'source': 'ABC News'}]"
      ]
     },
     "execution_count": 7,
     "metadata": {},
     "output_type": "execute_result"
    }
   ],
   "source": [
    "import aiohttp\n",
    "\n",
    "async with aiohttp.ClientSession() as session:\n",
    "    async with session.get(\n",
    "        \"https://serpapi.com/search\",\n",
    "        params=params\n",
    "    ) as response:\n",
    "        results = await response.json()\n",
    "\n",
    "results[\"organic_results\"]"
   ]
  },
  {
   "cell_type": "markdown",
   "metadata": {},
   "source": [
    "With that, we have all we need to build a fully async serpapi tool."
   ]
  },
  {
   "cell_type": "code",
   "execution_count": 8,
   "metadata": {},
   "outputs": [],
   "source": [
    "from langchain_core.tools import tool\n",
    "\n",
    "@tool\n",
    "async def serpapi(query: str) -> list[Article]:\n",
    "    \"\"\"Use this tool to search the web.\"\"\"\n",
    "    params = {\n",
    "        \"api_key\": SERPAPI_API_KEY,\n",
    "        \"engine\": \"google\",\n",
    "        \"q\": query,\n",
    "    }\n",
    "    async with aiohttp.ClientSession() as session:\n",
    "        async with session.get(\n",
    "            \"https://serpapi.com/search\",\n",
    "            params=params\n",
    "        ) as response:\n",
    "            results = await response.json()\n",
    "    return [Article.from_serpapi_result(result) for result in results[\"organic_results\"]]"
   ]
  },
  {
   "cell_type": "markdown",
   "metadata": {},
   "source": [
    "Note that because this tool is async, we cannot use `tool.func` to call it as before:"
   ]
  },
  {
   "cell_type": "code",
   "execution_count": 9,
   "metadata": {},
   "outputs": [],
   "source": [
    "serpapi.func"
   ]
  },
  {
   "cell_type": "markdown",
   "metadata": {},
   "source": [
    "Instead, we use `tool.coroutine`:"
   ]
  },
  {
   "cell_type": "code",
   "execution_count": 10,
   "metadata": {},
   "outputs": [
    {
     "data": {
      "text/plain": [
       "<function __main__.serpapi(query: str) -> list[__main__.Article]>"
      ]
     },
     "execution_count": 10,
     "metadata": {},
     "output_type": "execute_result"
    }
   ],
   "source": [
    "serpapi.coroutine"
   ]
  },
  {
   "cell_type": "markdown",
   "metadata": {},
   "source": [
    "---"
   ]
  }
 ],
 "metadata": {
  "kernelspec": {
   "display_name": ".venv",
   "language": "python",
   "name": "python3"
  },
  "language_info": {
   "codemirror_mode": {
    "name": "ipython",
    "version": 3
   },
   "file_extension": ".py",
   "mimetype": "text/x-python",
   "name": "python",
   "nbconvert_exporter": "python",
   "pygments_lexer": "ipython3",
   "version": "3.12.7"
  }
 },
 "nbformat": 4,
 "nbformat_minor": 2
}
